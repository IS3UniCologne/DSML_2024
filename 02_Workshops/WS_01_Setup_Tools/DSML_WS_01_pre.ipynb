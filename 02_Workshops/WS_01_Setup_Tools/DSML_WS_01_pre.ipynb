{
 "cells": [
  {
   "cell_type": "markdown",
   "metadata": {},
   "source": [
    "# `DSML_WS_01` - Setup & Tools"
   ]
  },
  {
   "cell_type": "markdown",
   "metadata": {},
   "source": [
    "Please complete the following steps **before** the first workshop session. We will discuss the intuition behind every step during Workshop 1."
   ]
  },
  {
   "cell_type": "markdown",
   "metadata": {},
   "source": [
    "## 1. GitHub Repository"
   ]
  },
  {
   "cell_type": "markdown",
   "metadata": {},
   "source": [
    "If you read this, you managed to find our GitHub repository for DSML - good job! Git is an open-source distributed version-control system. This repository hosted on GitHub allows us to share code, small data snippets, course information etc. with you. For each workshop there will be a so-called Juypter notebook (like this one), which you can find in the [02_Workshops](../02_Workshops) folder. You need to be able to work with materials shared via this repository on your local machine. There are different ways of doing this:\n",
    "1. *Least set-up time but also least convenient*: access the repository main page (https://github.com/IS3UniCologne/DSML_2024) and **download the repository by clicking on the green Code button on the main page, then *Download ZIP***. Disadvantage: You have to do this whenever there is a new file shared via the repository.\n",
    "2. *A little more set-up time but more convenient*: **Clone the repository to your local machine**. Cloning means that you create a copy of the repository available on GitHub on your local machine. Once you have cloned it, you can easily refresh to get the latest changes using simple commands. To do this, there are two ways:\n",
    "    1. Install GitHub Desktop as explained [here](https://docs.github.com/en/desktop/installing-and-authenticating-to-github-desktop/setting-up-github-desktop) and clone the repository as explained [here](https://docs.github.com/en/desktop/adding-and-cloning-repositories/cloning-a-repository-from-github-to-github-desktop).\n",
    "    2. First, check if git command line tools are installed on your machine. You can do this by opening up a terminal window in Linux or Mac, or a command prompt window in Windows, and typing the command `git --version` and hit enter. If you get a version number returned, git is installed and you can proceed. If you get an error, you first need to install git as explained [here](https://github.com/git-guides/install-git). Second, once git is installed you can clone the repository as explained [here](https://docs.github.com/en/repositories/creating-and-managing-repositories/cloning-a-repository?tool=webui).\n",
    "    \n",
    "    Once you have cloned the repository successfully, you can simply copy any changes in the \"remote repository\" (this is what we call the version hosted on GitHub) by clicking on Fetch origin and (if there are any changes) Pull origin if you are using GitHub Desktop, or by opening your terminal or command prompt, navigating to the local repository folder (using `cd ...`) and typing `git pull`.\n",
    "3. *Most set-up time but also most convenient*: **Use an IDE (Integrated Development Environment) of your choice**. Software like Visual Studio Code provides an intuitive user interface, significantly speeds up working with Jupyter notebooks, and integrates seamlessly with Git. You can familiarize yourself and get started with VS Code [here](https://code.visualstudio.com/docs/introvideos/basics) and learn more about how to work with Git in VS Code [here](https://code.visualstudio.com/docs/sourcecontrol/overview).\n",
    "\n",
    "Whatever option you choose, you should now be able to access files from the DSML 2024 GitHub Repository on your local machine."
   ]
  },
  {
   "cell_type": "markdown",
   "metadata": {},
   "source": [
    "## 2. Anaconda or Miniconda"
   ]
  },
  {
   "cell_type": "markdown",
   "metadata": {},
   "source": [
    "We will be using the open-source Python programming language. We recommend using the Anaconda or Miniconda distribution of Python. You can choose one of two options:\n",
    "- Option 1 (probably the easiest): Install the full Anaconda version, which comes with a lot of pre-installed packages (incl. Jupyter Notebook) and a package manager graphical user interface (GUI). **It is available for download [here](https://www.anaconda.com/download).**\n",
    "- Option 2 (for slightly more advanced users and if you are short on disk space): Install the much lighter Miniconda distribution which essentially is just the Conda package manager and Python. From there you can simply install Python packages as required via the Terminal (Mac) or the Command Prompt (Windows). **Miniconda is available for download [here](https://docs.conda.io/en/latest/miniconda.html).**"
   ]
  },
  {
   "cell_type": "markdown",
   "metadata": {},
   "source": [
    "## 3. Installing required packages"
   ]
  },
  {
   "cell_type": "markdown",
   "metadata": {},
   "source": [
    "After installing either Anaconda or Miniconda, let's take care of downloading some packages you will need. First, open up a terminal:\n",
    "- If you are on a **Windows** computer, use the \"Command Prompt\" from the Start menu. \n",
    "- On a **Mac**, start up the \"Terminal\". \n",
    "- In **Linux**, use any of the terminals available."
   ]
  },
  {
   "cell_type": "markdown",
   "metadata": {},
   "source": [
    "**In case you installed Anaconda**\\\n",
    "If you have installed the full Anaconda distribution, to ensure all your packages are up to date, run the following two commands consecutively:\n",
    "```\n",
    "conda update -n base conda\n",
    "conda update jupyter numpy scipy matplotlib pandas\n",
    "```"
   ]
  },
  {
   "cell_type": "markdown",
   "metadata": {},
   "source": [
    "**In case you installed Miniconda**\\\n",
    "If you have installed the Miniconda distribution, which comes without any pre-installed packages, run the following commands consecutively:\n",
    "```\n",
    "conda update -n base conda\n",
    "conda install jupyter\n",
    "conda install jupyterlab\n",
    "conda install numpy scipy matplotlib pandas\n",
    "```\n",
    "You might be asked to confirm before installing a package (y/n?). Confirm by typing y and hit enter.\n",
    "\n",
    "You can easily check which packages are installed by executing the following command in your terminal:\n",
    "`conda list`"
   ]
  },
  {
   "cell_type": "markdown",
   "metadata": {},
   "source": [
    "We will go more into detail regarding packages and how to install them during the first workshop. For now, make sure that you have either Anaconda or Miniconda installed and were able to update/install packages using the commands above."
   ]
  },
  {
   "cell_type": "markdown",
   "metadata": {},
   "source": [
    "## 4. Launch Jupyter Notebook"
   ]
  },
  {
   "cell_type": "markdown",
   "metadata": {},
   "source": [
    "As mentioned before, we will be using Jupyter Notebooks like this one throughout the workshops. Notebooks are a convenient way to thread text, code and the output it produces in a simple file that you can then share, edit and modify. You can think of notebooks as the **Word document of Data Scientists**. Jupyter is a browser-based coding environment. If you managed to complete all previous steps successfully, you should now be able to launch this Jupyter notebook by doing the following (if you use an IDE like VS Code, you can of course open the notebook there):\n",
    "1. Start up a terminal (as described before).\n",
    "2. Type the following command:\n",
    "`conda activate base`\n",
    "3. Launch Jupyter by typing:\n",
    "`jupyter notebook`\n",
    "\n",
    "This should bring up a browser window with a homepage showing all your folders and files. Navigate to where you have either downloaded this notebook or cloned your repository and open this file (DSML_WS_01_pre) within the Jupyter Notebook server you just launched."
   ]
  },
  {
   "cell_type": "markdown",
   "metadata": {},
   "source": [
    "## 5. Final Remarks"
   ]
  },
  {
   "cell_type": "markdown",
   "metadata": {},
   "source": [
    "If you worked through the steps and were able to launch this Jupyter Notebook, you should be able to run the following code cell by clicking inside it, hitting Shift + Enter, and the result should be printed below the cell."
   ]
  },
  {
   "cell_type": "code",
   "execution_count": null,
   "metadata": {},
   "outputs": [],
   "source": [
    "# run this cell by clicking inside it and hitting shift + enter\n",
    "print(\"I am all set for the first workshop!\")"
   ]
  },
  {
   "cell_type": "markdown",
   "metadata": {},
   "source": [
    "If you got stuck somewhere, don't worry! We will shortly go over the entire process once again during Workshop 1. Additionally, you can find an abundance of information and support on the internet.\n",
    "\n",
    "See you on Wednesday!"
   ]
  }
 ],
 "metadata": {
  "kernelspec": {
   "display_name": "Python 3 (ipykernel)",
   "language": "python",
   "name": "python3"
  },
  "language_info": {
   "codemirror_mode": {
    "name": "ipython",
    "version": 3
   },
   "file_extension": ".py",
   "mimetype": "text/x-python",
   "name": "python",
   "nbconvert_exporter": "python",
   "pygments_lexer": "ipython3",
   "version": "3.12.2"
  }
 },
 "nbformat": 4,
 "nbformat_minor": 4
}
