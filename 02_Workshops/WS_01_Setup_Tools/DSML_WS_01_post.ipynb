{
 "cells": [
  {
   "cell_type": "markdown",
   "metadata": {},
   "source": [
    "# `DSML_WS_01` - Setup & Tools"
   ]
  },
  {
   "cell_type": "markdown",
   "metadata": {},
   "source": [
    "In this tutorial we will introduce the main tools we will be working with throughout the rest of the course. Everything shown here will become the basis on top of which we will build more sophisticated (and hopefully fun) data science and machine learning tasks.\n",
    "\n",
    "We will go through the following:\n",
    "\n",
    "- `Git` and `GitHub` as central course repository\n",
    "- Managing Python packages\n",
    "- `Jupyter Notebook` introduction\n",
    "- `Python` introduction"
   ]
  },
  {
   "cell_type": "markdown",
   "metadata": {},
   "source": [
    "You were given some tasks to prepare for the first workshop. Let's first check how that worked out for you."
   ]
  },
  {
   "cell_type": "markdown",
   "metadata": {},
   "source": [
    "---"
   ]
  },
  {
   "cell_type": "markdown",
   "metadata": {},
   "source": [
    "## `Git` and `GitHub`"
   ]
  },
  {
   "cell_type": "markdown",
   "metadata": {},
   "source": [
    "[Git](https://git-scm.com) is an open-source distributed version-control system that has gained increasing popularity in recent years. It allows large teams of software engineers or data scientists to collaboratively work on projects, while keeping track of changes.\n",
    "\n",
    "In this course we will use a git repository hosted by [GitHub](https://github.com/about) to **share code**, **small data snippets**, links to **lecture material** and **course information** with you.\n",
    "\n",
    "For the purpose of this course you will not require a deep understanding of Git. All you need is access to our Chair's public GitHub repository from where you can download code and data. This repo can be accessed here:\n",
    "- Navigate to [`https://github.com/IS3UniCologne/DSML_2024`](https://github.com/IS3UniCologne/DSML_2024)"
   ]
  },
  {
   "cell_type": "markdown",
   "metadata": {},
   "source": [
    "You should see a screen similar to this one (shown here in dark mode):"
   ]
  },
  {
   "cell_type": "markdown",
   "metadata": {},
   "source": [
    "![GitLab home](DSML_WS_01_GitHub_Screen.png)"
   ]
  },
  {
   "cell_type": "markdown",
   "metadata": {},
   "source": [
    "As explained in the preparation materials for this workshop, there are several ways you can access and work with the material shared via the repository, e. g. by simply downloading the repo each time there is new content, or by cloning it to your local machine using GitHub Desktop, the command line, or an IDE. We will not go into details on working with GitHub, but provide some further information at the start of the group project."
   ]
  },
  {
   "cell_type": "markdown",
   "metadata": {},
   "source": [
    "---"
   ]
  },
  {
   "cell_type": "markdown",
   "metadata": {},
   "source": [
    "## Managing Python packages"
   ]
  },
  {
   "cell_type": "markdown",
   "metadata": {},
   "source": [
    "When you prepared for this workshop, you installed either the Anaconda or Miniconda distribution of Python. We also asked you to install or update some packages by running, for example, `conda install numpy` or `conda update numpy`. Let's understand what we really did there."
   ]
  },
  {
   "cell_type": "markdown",
   "metadata": {},
   "source": [
    "### Environments in Python"
   ]
  },
  {
   "cell_type": "markdown",
   "metadata": {},
   "source": [
    "A virtual environment is a tool you can use to isolate projects and manage dependencies. Virtual environments allow you to install and use packages only for a particular project. You can easily share virtual environments, ensuring that all members in a project team are working with the same tools and versions."
   ]
  },
  {
   "cell_type": "markdown",
   "metadata": {},
   "source": [
    "### Activating and deactivating an environment"
   ]
  },
  {
   "cell_type": "markdown",
   "metadata": {},
   "source": [
    "Your default (\"global\") environment is called `base`. Once you open a terminal, you should see `(base)` at the very beginning of the first line, indicating that you are currently using the default environment. You can deactivate the current environment by typing the following command:\n",
    "```\n",
    "conda deactivate\n",
    "```\n",
    "You should see that the `(base)` at the beginning disappears. Similarly, you can activate the base environment again using:\n",
    "```\n",
    "conda activate base\n",
    "```\n",
    "Remember, you can only use the packages you installed when the respective environment is activated."
   ]
  },
  {
   "cell_type": "markdown",
   "metadata": {},
   "source": [
    "### Creating an environment"
   ]
  },
  {
   "cell_type": "markdown",
   "metadata": {},
   "source": [
    "When we asked you to install or update packages, you installed these packages (e.g. numpy) in your base environment. However, you might want to create a designated environment for DSML (and we highly encourage you to do this to get used to working with environments). Let's create an environment called `TEST_env` by typing the following command in your terminal:\n",
    "```\n",
    "conda create --name TEST_env\n",
    "```\n",
    "You might be asked to confirm where the new environment will be stored (y/n?) by typing `y` and confirm with enter."
   ]
  },
  {
   "cell_type": "markdown",
   "metadata": {},
   "source": [
    "We can activate our new environment as learned before:\n",
    "```\n",
    "conda activate TEST_env\n",
    "```\n",
    "You can check whether you are using the new environment by confirming that `(TEST_env)` is shown at the beginning of the line in your Terminal.\n",
    "\n",
    "After activating the environment, you can install packages in it using the commands as seen before (`conda install ...`)."
   ]
  },
  {
   "cell_type": "markdown",
   "metadata": {},
   "source": [
    "You can get a list of all environments that you have available by typing:\n",
    "```\n",
    "conda env list\n",
    "```\n",
    "\n",
    "And once you have an environment activated, you can check which packages are installed within it by typing:\n",
    "```\n",
    "conda list\n",
    "```\n",
    "\n",
    "You can remove environments (including all packages within it) by typing:\n",
    "```\n",
    "conda remove --name TEST_env --all\n",
    "```"
   ]
  },
  {
   "cell_type": "markdown",
   "metadata": {},
   "source": [
    "### Creating an environment from a .yml file"
   ]
  },
  {
   "cell_type": "markdown",
   "metadata": {},
   "source": [
    "In the beginning, we said that environments are particularly useful because you can make them available to others, enabling you to collaborate on the same project using the same packages.\n",
    "\n",
    "To share an environment with others, you can export it to a file that you can then share with your team mates. To do so, activate your environment (`conda activate TEST_env`) and export it by typing `conda env export --from-history > environment.yml`. If you check our DSML 2024 repository, you will notice that there already is such a file, specifying all packages we need throughout the course. You can now easily re-create this environment called DSML_env on your local machine like this:\n",
    "1. Replace *\\<specify path\\>* to the path where conda saves environments on your local machine (you can check this by, for example, typing `conda env list` and checking the paths shown behind your existing environments.)\n",
    "2. Open up a terminal, navigate to the local repository folder (which also contains the environment.yml file), and type:\n",
    "```\n",
    "conda env create -f environment.yml\n",
    "```\n",
    "\n",
    "After creating the environment, you can activate it as before using `conda activate DSML_env`."
   ]
  },
  {
   "cell_type": "markdown",
   "metadata": {},
   "source": [
    "If we want to update an environment by, for example, installing a new package, we can simply add it to the environment.yml file and run `conda env update --file environment.yml --prune` to update our environment locally."
   ]
  },
  {
   "cell_type": "markdown",
   "metadata": {},
   "source": [
    "---"
   ]
  },
  {
   "cell_type": "markdown",
   "metadata": {},
   "source": [
    "## `Jupyter Notebook`"
   ]
  },
  {
   "cell_type": "markdown",
   "metadata": {},
   "source": [
    "The main computational tool we will be using during this course is the [Jupyter notebook](http://jupyter.org/). Notebooks are a convenient way to thread text, code and the output it produces in a simple file that you can then share, edit and modify. You can think of notebooks as the __Word document of data scientists__.\n",
    "\n",
    "Jupyter is a browser-based coding environment, used extensively for prototyping and interactive development in data science applications.  Jupyter Notebook is an evolution of an older project called the IPython Notebook (this is the origin of the notebook file extension \".ipynb\").\n",
    "\n",
    "The central unit within a Jupyter Notebook are \"cells\".  These cells can either contain code or Markdown (a simple formatting language, which can also include things like LaTeX equations). \n",
    "\n",
    "In the following we explain the basic concepts of how to use Jupyter."
   ]
  },
  {
   "cell_type": "markdown",
   "metadata": {},
   "source": [
    "### Start a notebook"
   ]
  },
  {
   "cell_type": "markdown",
   "metadata": {},
   "source": [
    "In order to begin a notebook session, you can either use an IDE (Integrated Development Environment like VS Code) or do it from what is called the *command line*, a terminal window that allows you to interact with your computer through written commands. You should be familiar with this by now, but this is how you can start up a terminal:\n",
    "\n",
    "* If you are on a **Windows** computer, you can start the \"Command Prompt\" from the Start menu. \n",
    "* On a **Mac**, fire up the Terminal utility. \n",
    "* In **Linux**, use any of the terminals available.\n",
    "\n",
    "Then activate the environment you want to work with, for example `DSML_env`:\n",
    "\n",
    "```\n",
    "> conda activate DSML_env\n",
    "```\n",
    "\n",
    "**NOTE**: you might have to ignore `conda` if you are on Windows and simply type `activate DSML_env`.\n",
    "\n",
    "Then launch `Jupyter` by typing in the same terminal:\n",
    "\n",
    "```\n",
    "> jupyter notebook\n",
    "```\n",
    "\n",
    "This should bring up a browser window with a homepage that looks more or less like this (just with a different list of files):"
   ]
  },
  {
   "cell_type": "markdown",
   "metadata": {},
   "source": [
    "![Jupyter home](DSML_WS_01_JupyterNotebook_Start_Screen.png)"
   ]
  },
  {
   "cell_type": "markdown",
   "metadata": {},
   "source": [
    "Alternatively you can also use `jupyter lab`, a more advanced and (I think) better interface for working with jupyter notebooks. To do so, type the following command in the Terminal/Anaconda Prompt:\n",
    "\n",
    "```\n",
    "> jupyter lab\n",
    "```\n",
    "\n",
    "(you may have to install by running `conda install jupyterlab`)\n"
   ]
  },
  {
   "cell_type": "markdown",
   "metadata": {},
   "source": [
    "Navigate to the folder where you have placed the jupyter notebook you want to open and click on it. This will open the notebook in a different tab. You are now on the interactive version of the notebook!"
   ]
  },
  {
   "cell_type": "markdown",
   "metadata": {},
   "source": [
    "When you are finished with the session, you can save the notebook with `File -> Save and Checkpoint` or by clicking the save button. Everything you do on the notebook (text, code and output) is saved into an `.ipynb` file that you can open later, share, commit to a remote git repo, etc."
   ]
  },
  {
   "cell_type": "markdown",
   "metadata": {},
   "source": [
    "### Cells"
   ]
  },
  {
   "cell_type": "markdown",
   "metadata": {},
   "source": [
    "The main building block of notebooks are cells. These are chunks of content which can be cut, pasted, and moved around in a notebook. \n",
    "\n",
    "Code cells can be executed by pressing the <i class=\"fa fa-step-forward\"></i> button at the top of the notebook, or \n",
    "by simultaneously pressing `shift + enter` (execute and move to the next cell) or `ctrl + enter` (execute and stay on that cell).  All Python code is executed in a single running Python environment, called the \"Kernel\" in Jupyter Notebook.  Variables are shared across all cells, and the code is executed in the order in which the cells are run (not necessarily sequential in the notebook), which can get your notebook into rather confusing states if you don't always execute cells in order.\n",
    "\n",
    "Cells can be of two types:\n",
    "\n",
    "* **Text**, (or markdown) like the one where this is written.\n",
    "* **Code**, like the following one below:\n",
    "\n",
    "**Tip**: you can easily switch between text (markdown) and code via shortcuts. If you press `<escape>` and then `y` you switch to **Code**. If you press `<escape>` and then `m` you switch to **Text** (i.e. markdown)."
   ]
  },
  {
   "cell_type": "code",
   "execution_count": null,
   "metadata": {},
   "outputs": [],
   "source": [
    "# This is a code cell. If we want to add a comment in a code cell, we can do this after a preceding \"#\"\n",
    "# Let's type some code by assigning a variable and printing it\n",
    "\n",
    "var = 5+7\n",
    "print(var)"
   ]
  },
  {
   "cell_type": "markdown",
   "metadata": {},
   "source": [
    "__This is a text cell__\n",
    "\n",
    "Assigning a variable and printing it does not work here:\n",
    "\n",
    "var = 5+7\\\n",
    "print(var)\n",
    "\n",
    "It's just text here."
   ]
  },
  {
   "cell_type": "markdown",
   "metadata": {},
   "source": [
    "### Shortcuts"
   ]
  },
  {
   "cell_type": "markdown",
   "metadata": {},
   "source": [
    "You can create a new cell by clicking `Insert` -> `Cell Above`/`Below` in the top menu. By default, this will be a code cell, but you can change that on the `Cell` -> `Cell Type` menu. Choose `Markdown` for a text cell. Once a new cell is created, you can edit it by clicking on it, which will create the cursor bar inside for you to start typing.\n",
    "\n",
    "**Tip**: Alternatively, cells can also be created with shortcuts. If you press `<escape>` and then `b` (`a`), a new cell will be created below (above). "
   ]
  },
  {
   "cell_type": "markdown",
   "metadata": {},
   "source": [
    "As eluded to above, shortcuts can make your life a lot easier. There is a whole bunch of shortcuts you can explore by pressing `<escape>` and `h` (press `<escape>` again to leave the help)."
   ]
  },
  {
   "cell_type": "markdown",
   "metadata": {},
   "source": [
    "### Code and its output\n",
    "\n",
    "A particularly useful feature of notebooks is that you can save, in the same place, the code you use to generate any output (tables, figures, etc.) and the output. As an example, the cell below contains a snippet of Python that returns a printed statement. This statement is then printed below and recorded in the notebook as output:"
   ]
  },
  {
   "cell_type": "code",
   "execution_count": null,
   "metadata": {},
   "outputs": [],
   "source": [
    "print(\"Hello, world!!!\")"
   ]
  },
  {
   "cell_type": "markdown",
   "metadata": {},
   "source": [
    "Note also how the notebook has automatic syntax highlighting support for Python. This makes the code much more readable and understandable. More on Python as a coding language below."
   ]
  },
  {
   "cell_type": "markdown",
   "metadata": {},
   "source": [
    "### Markdown"
   ]
  },
  {
   "cell_type": "markdown",
   "metadata": {},
   "source": [
    "Text cells in a notebook use the [Github Flavored Markdown](https://help.github.com/articles/github-flavored-markdown/) markup language. This means you can write plain text with some rules and the notebook renders a more visually appealing version of it. Let's see some examples:\n",
    "\n",
    "* __BOLD__:\n",
    "\n",
    "`This is **bold**.`\n",
    "\n",
    "Is rendered:\n",
    "\n",
    "This is **bold**.\n",
    "\n",
    "* **ITALIC**:\n",
    "\n",
    "`This is *italic*.`\n",
    "\n",
    "Is rendered:\n",
    "\n",
    "This is *italic*.\n",
    "\n",
    "* **LISTS**:\n",
    "\n",
    "You can create unnumbered lists:\n",
    "\n",
    "```\n",
    "* Item 1\n",
    "* Item 2\n",
    "* ...\n",
    "```\n",
    "\n",
    "Which will produce:\n",
    "\n",
    "* Item 1\n",
    "* Item 2\n",
    "* ...\n",
    "\n",
    "Or you can create numbered lists:\n",
    "\n",
    "```\n",
    "1. First element\n",
    "1. Second element\n",
    "1. ...\n",
    "```\n",
    "\n",
    "And get:\n",
    "\n",
    "1. First element\n",
    "1. Second element\n",
    "1. ...\n",
    "\n",
    "Note that you don't have to write the actual number of the element, just using `1.` always produces a numbered list.\n",
    "\n",
    "You can also nest lists:\n",
    "\n",
    "```\n",
    "* First unnumbered element, which can be split into:\n",
    "    1. One numbered element\n",
    "    2. Another numbered element\n",
    "* Second element.\n",
    "* ...\n",
    "```\n",
    "\n",
    "* First unnumbered element, which can be split into:\n",
    "    1. One numbered element\n",
    "    2. Another numbered element\n",
    "* Second element.\n",
    "* ...\n",
    "\n",
    "This creates many oportunities to combine things nicely.\n",
    "\n",
    "* **LINKS**\n",
    "\n",
    "`You can easily create hyperlinks, for example to [WikiPedia](https://www.wikipedia.org/).`\n",
    "\n",
    "You can easily create hyperlinks, for example to [WikiPedia](https://www.wikipedia.org/).\n",
    "\n",
    "* **HEADINGS**: including `#` before a line causes it to render a heading.\n",
    "\n",
    "`# This is Header 1`\n",
    "\n",
    "Turns into:\n",
    "\n",
    "# This is Header 1\n",
    "\n",
    "`## This is Header 2`\n",
    "\n",
    "Turns into:\n",
    "\n",
    "## This is Header 2\n",
    "\n",
    "`### This is Header 3`\n",
    "\n",
    "Turns into:\n",
    "\n",
    "### This is Header 3\n",
    "\n",
    "And so on...\n",
    "\n",
    "You can see a more in detail introduction in the following links:\n",
    "\n",
    ">* https://help.github.com/articles/markdown-basics/\n",
    "\n",
    ">* https://help.github.com/articles/github-flavored-markdown/"
   ]
  },
  {
   "cell_type": "markdown",
   "metadata": {},
   "source": [
    "If you use headers right the Table of Contents feature will provide a nice tool to navigate your notebook."
   ]
  },
  {
   "cell_type": "markdown",
   "metadata": {},
   "source": [
    "### Rich content in a notebook"
   ]
  },
  {
   "cell_type": "markdown",
   "metadata": {},
   "source": [
    "Notebooks can also include rich content from the web. For that, we need to import the `display` module. This module allows you to embed, for example:\n",
    "- Youtube videos\n",
    "- HTML code\n",
    "- interactive maps\n",
    "- sound content\n",
    "- etc.\n",
    "\n",
    "We will not cover these aspects in great detail but leave this up to you to explore in your own time, if you are interested. A thorough exploration of these features is available at the following [link](https://notebook.community/CestDiego/emacs-ipython-notebook/tests/notebook/nbformat3/Display%20System).\n"
   ]
  },
  {
   "cell_type": "markdown",
   "metadata": {},
   "source": [
    "---"
   ]
  },
  {
   "cell_type": "markdown",
   "metadata": {},
   "source": [
    "## `Python`"
   ]
  },
  {
   "cell_type": "markdown",
   "metadata": {},
   "source": [
    "The main bulk of the course relies on the [Python](https://www.python.org/) programming language. Python is a [high-level](https://en.wikipedia.org/wiki/High-level_programming_language) programming language widely used today. To give a couple of examples of its relevance, it is underlying [most of the Dropbox systems](https://www.quora.com/How-does-dropbox-use-python-What-features-are-implemented-in-it-any-tangentially-related-material?share=1), but also heavily [used to control satellites at NASA](https://www.python.org/about/success/usa/).\n",
    "\n",
    "This course uses Python because it has emerged as one of the main and most solid options for Data Science, together with other free alternatives such as R. Python is widely used for data processing and analysis both in academia and in industry. There is a vibrant and growing scientific community, working at both universities and companies, that supports and enhances its capabilities for data analysis by providing new and refining existing extensions (a.ka.a. libraries, see below). All of this means that, whether you are thinking of continuing in Higher Education or trying to find a job in industry, Python will be an importan asset that employers will significantly value.\n",
    "\n",
    "Being a high-level language means that the code can be \"dynamically interpreted\", which means it is run on-the-fly without the need to be compiled. This is in contrast to \"low-level\" programming languages, which first need to be converted into machine code (i.e. compiled) before they can be run. With Python, one does not need to worry about compilation and can just write code, evaluate, fix it, re-evaluate it, etc. in a quick cycle, making it a very productive tool. The rest of this tutorial covers some of the basic elements of the language, from conventions like how to comment your code, to the basic data structures available.\n",
    "\n",
    "We recommend the following resources for further introductory reading:\n",
    "- [Standard Python Tutorial](https://docs.python.org/3/tutorial/) \n",
    "- [Python Data Science Handbook (free ebook)](https://github.com/jakevdp/PythonDataScienceHandbook)\n",
    "\n",
    "The most common \"built-in\" data types you will interact with when doing data science work are lists and dictionaries (there are of course additional types like Numpy Arrays, Pandas Dataframes, and others, but these are provided by external libraries). It's good to have a brief understanding of how to use these data structures effectively."
   ]
  },
  {
   "cell_type": "markdown",
   "metadata": {},
   "source": [
    "### Python data structures"
   ]
  },
  {
   "cell_type": "markdown",
   "metadata": {},
   "source": [
    "The standard Python you can access without importing any additional libraries contains a few core data structures that are very handy to know. Most of data analysis is done on top of other structures specifically designed for the purpose (numpy arrays and pandas dataframes, mostly; we will get there in the following sessions), but some understanding of these core Python structures is very useful. In this context, we will look at three: `values` (intergers and floats), `lists`, and `dictionaries`."
   ]
  },
  {
   "cell_type": "markdown",
   "metadata": {},
   "source": [
    "#### Values \n",
    "\n",
    "These are the most basic elements to organize data and information in Python. You can think of them as numbers (integers or floats) or words (strings). Typically, these are the elements that will be stored in lists and dictionaries.\n",
    "\n",
    "An `integer` is a whole number:"
   ]
  },
  {
   "cell_type": "code",
   "execution_count": null,
   "metadata": {},
   "outputs": [],
   "source": [
    "# assign a value to a variable i and return the type of i\n",
    "i = 5"
   ]
  },
  {
   "cell_type": "code",
   "execution_count": null,
   "metadata": {},
   "outputs": [],
   "source": [
    "type(i)"
   ]
  },
  {
   "cell_type": "code",
   "execution_count": null,
   "metadata": {},
   "outputs": [],
   "source": [
    "# print i\n",
    "print(i)"
   ]
  },
  {
   "cell_type": "markdown",
   "metadata": {},
   "source": [
    "A `float` is a number that allows for decimals:"
   ]
  },
  {
   "cell_type": "code",
   "execution_count": null,
   "metadata": {},
   "outputs": [],
   "source": [
    "# assign a value to a variable f and return type of f\n",
    "f = 5.5"
   ]
  },
  {
   "cell_type": "code",
   "execution_count": null,
   "metadata": {},
   "outputs": [],
   "source": [
    "# print f\n",
    "print(f)"
   ]
  },
  {
   "cell_type": "code",
   "execution_count": null,
   "metadata": {},
   "outputs": [],
   "source": [
    "type(f)"
   ]
  },
  {
   "cell_type": "markdown",
   "metadata": {},
   "source": [
    "Note that a float can also not have decimals and still be stored as such:"
   ]
  },
  {
   "cell_type": "code",
   "execution_count": null,
   "metadata": {},
   "outputs": [],
   "source": [
    "# assign the value 5. to a variable fw and return type of fw\n",
    "fw = 5."
   ]
  },
  {
   "cell_type": "code",
   "execution_count": null,
   "metadata": {},
   "outputs": [],
   "source": [
    "# print fw\n",
    "print(fw)"
   ]
  },
  {
   "cell_type": "markdown",
   "metadata": {},
   "source": [
    "The standard Python language includes some data types (e.g. lists, tuples, dictionaries, etc.) and allows many basic operations (e.g. sum, product, etc.). For example, right out of the box, and without any further action needed, you can use Python as a calculator:"
   ]
  },
  {
   "cell_type": "code",
   "execution_count": null,
   "metadata": {},
   "outputs": [],
   "source": [
    "# summation\n",
    "5+5"
   ]
  },
  {
   "cell_type": "code",
   "execution_count": null,
   "metadata": {},
   "outputs": [],
   "source": [
    "# division\n",
    "10/5"
   ]
  },
  {
   "cell_type": "markdown",
   "metadata": {},
   "source": [
    "The modulo operator (%) returns the remainder of a division."
   ]
  },
  {
   "cell_type": "code",
   "execution_count": null,
   "metadata": {},
   "outputs": [],
   "source": [
    "# calculate the remainder of 4 divided by 2\n",
    "5%2"
   ]
  },
  {
   "cell_type": "markdown",
   "metadata": {},
   "source": [
    "A `string` is a word, which can be delimited by single or double quotation marks (quotes have to match): "
   ]
  },
  {
   "cell_type": "code",
   "execution_count": null,
   "metadata": {},
   "outputs": [],
   "source": [
    "# assign a string to variable A and another string to variable B\n",
    "A = \"Hello\""
   ]
  },
  {
   "cell_type": "code",
   "execution_count": null,
   "metadata": {},
   "outputs": [],
   "source": [
    "# print A\n",
    "print(A)"
   ]
  },
  {
   "cell_type": "code",
   "execution_count": null,
   "metadata": {},
   "outputs": [],
   "source": [
    "# print the type of A\n",
    "type(A)"
   ]
  },
  {
   "cell_type": "markdown",
   "metadata": {},
   "source": [
    "#### Lists\n",
    "A list is an ordered sequence of values that can be of mixed types. They are represented between squared brackets (`[]`) and, although not very efficient in memory terms, are very flexible and useful to \"put things together\".\n",
    "\n",
    "For example, the following list of integers:"
   ]
  },
  {
   "cell_type": "code",
   "execution_count": null,
   "metadata": {},
   "outputs": [],
   "source": [
    "l = [1, 2, 3, 4, 5, 6, 7]\n",
    "print(l)"
   ]
  },
  {
   "cell_type": "code",
   "execution_count": null,
   "metadata": {},
   "outputs": [],
   "source": [
    "type(l)"
   ]
  },
  {
   "cell_type": "markdown",
   "metadata": {},
   "source": [
    "Or the following mixed one:"
   ]
  },
  {
   "cell_type": "code",
   "execution_count": null,
   "metadata": {},
   "outputs": [],
   "source": [
    "m = ['a', 'b', 5, 'c', 6, 7.6]\n",
    "m"
   ]
  },
  {
   "cell_type": "markdown",
   "metadata": {},
   "source": [
    "Lists can be queried and sliced. For example, the first element can be retrieved by:"
   ]
  },
  {
   "cell_type": "code",
   "execution_count": null,
   "metadata": {},
   "outputs": [],
   "source": [
    "# print the length of list m using len(m)\n",
    "len(m)"
   ]
  },
  {
   "cell_type": "code",
   "execution_count": null,
   "metadata": {},
   "outputs": [],
   "source": [
    "# retrieve the first element of m\n",
    "m[0]"
   ]
  },
  {
   "cell_type": "code",
   "execution_count": null,
   "metadata": {},
   "outputs": [],
   "source": [
    "# retrieve the last element of m\n",
    "m[-1]"
   ]
  },
  {
   "cell_type": "code",
   "execution_count": null,
   "metadata": {},
   "outputs": [],
   "source": [
    "# retrieve the first 2 elements of m\n",
    "m[0:2]"
   ]
  },
  {
   "cell_type": "markdown",
   "metadata": {},
   "source": [
    "You can change a specific element of a list"
   ]
  },
  {
   "cell_type": "code",
   "execution_count": null,
   "metadata": {},
   "outputs": [],
   "source": [
    "# remember our list m\n",
    "m"
   ]
  },
  {
   "cell_type": "code",
   "execution_count": null,
   "metadata": {},
   "outputs": [],
   "source": [
    "# print the second value of m\n",
    "m[1]"
   ]
  },
  {
   "cell_type": "code",
   "execution_count": null,
   "metadata": {},
   "outputs": [],
   "source": [
    "# assign a new value to m[1]\n",
    "m[1] = 0"
   ]
  },
  {
   "cell_type": "code",
   "execution_count": null,
   "metadata": {},
   "outputs": [],
   "source": [
    "# return m\n",
    "m"
   ]
  },
  {
   "cell_type": "markdown",
   "metadata": {},
   "source": [
    "#### Dictionaries\n",
    "Dictionaries are unordered collections of \"keys\" and \"values\". A key, which can be of any kind, is the element associated with a \"value\", which can also be of any kind. Dictionaries are used when order is not important but you need fast and easy lookup. They are expressed in curly brackets, with keys and values being linked through columns.\n",
    "\n",
    "For example, we can think of a dictionary to store a series of names and the ages of the people they represent:"
   ]
  },
  {
   "cell_type": "code",
   "execution_count": null,
   "metadata": {},
   "outputs": [],
   "source": [
    "ages = {'Ana':24, 'John': 20, 'Li': 27, 'Ivan': 40, 'Tali':33}\n",
    "ages"
   ]
  },
  {
   "cell_type": "code",
   "execution_count": null,
   "metadata": {},
   "outputs": [],
   "source": [
    "# return the type of ages\n",
    "type(ages)"
   ]
  },
  {
   "cell_type": "code",
   "execution_count": null,
   "metadata": {},
   "outputs": [],
   "source": [
    "# return the keys of ages by using the .keys() method\n",
    "ages.keys()"
   ]
  },
  {
   "cell_type": "markdown",
   "metadata": {},
   "source": [
    "Dictionaries can then be queried and values retrieved easily by using their keys. For example, if we quickly want to know John's age:"
   ]
  },
  {
   "cell_type": "code",
   "execution_count": null,
   "metadata": {},
   "outputs": [],
   "source": [
    "# return John's age by using ages['John']\n",
    "ages['John']"
   ]
  },
  {
   "cell_type": "markdown",
   "metadata": {},
   "source": [
    "Similarly to lists, you can modify and assign new values:"
   ]
  },
  {
   "cell_type": "code",
   "execution_count": null,
   "metadata": {},
   "outputs": [],
   "source": [
    "# let's add Karsten to our list, who is 29 years old\n",
    "ages['Karsten'] = 29"
   ]
  },
  {
   "cell_type": "code",
   "execution_count": null,
   "metadata": {},
   "outputs": [],
   "source": [
    "# Li turned 28 so let's change her age\n",
    "ages['Li'] = 28"
   ]
  },
  {
   "cell_type": "code",
   "execution_count": null,
   "metadata": {},
   "outputs": [],
   "source": [
    "ages"
   ]
  },
  {
   "cell_type": "markdown",
   "metadata": {},
   "source": [
    "### Help"
   ]
  },
  {
   "cell_type": "markdown",
   "metadata": {},
   "source": [
    "A very handy feature of Python is the ability to access on-the-spot help for its different functions. This means that you can check what a function is supposed to do, or how to access it, right inside your Python session. Of course, this also works handsomely inside a notebook. There are a couple of ways to access the help. \n",
    "\n"
   ]
  },
  {
   "cell_type": "code",
   "execution_count": null,
   "metadata": {},
   "outputs": [],
   "source": [
    "help(type)"
   ]
  },
  {
   "cell_type": "markdown",
   "metadata": {},
   "source": [
    "To call up the help menu, another extremely useful shortcut is the key combination `shift+tab`. This, when pressed while your cursor is inside a function or method will produce a pop-up help menu."
   ]
  },
  {
   "cell_type": "markdown",
   "metadata": {},
   "source": [
    "### Control flow (a.k.a. `for` loops and `if` statements)"
   ]
  },
  {
   "cell_type": "markdown",
   "metadata": {},
   "source": [
    "Although this is not a comprehensive introduction to computer programming or general purpose Python (check the references for that, in particular Allen Downey's [book](http://www.greenteapress.com/thinkpython/thinkpython.html)), it is important to be aware of two building blocks of almost any computer program: `for` loops and `if` statements. \n",
    "\n",
    "\n",
    "They can also come in very handy in cases where you need some extra functionality out of standard methods. Without further ado, let us have a look and the two single most relevant tools of computer programming."
   ]
  },
  {
   "cell_type": "markdown",
   "metadata": {},
   "source": [
    "#### `for` loops\n",
    "\n",
    "The general structure of a `for` loop is:\n",
    "\n",
    "```\n",
    "for conditional == True:\n",
    "    Do\n",
    "```\n",
    "\n",
    "This allows you to repeat a particular action or task over a sequence. As an example, you can print your name ten times without having to type it yourself every single time:"
   ]
  },
  {
   "cell_type": "code",
   "execution_count": null,
   "metadata": {},
   "outputs": [],
   "source": [
    "# let's define a list of values called lst from 0 to 9\n",
    "lst = [0,1,2,3,4,5,6,7,8,9]"
   ]
  },
  {
   "cell_type": "code",
   "execution_count": null,
   "metadata": {},
   "outputs": [],
   "source": [
    "# use lst to print your name ten times\n",
    "for number in lst:\n",
    "    print('yourname')"
   ]
  },
  {
   "cell_type": "markdown",
   "metadata": {},
   "source": [
    "Note that you do not have to create a list for the sequence you want to loop over. Alternatively you can use the buil-in `range()`function."
   ]
  },
  {
   "cell_type": "code",
   "execution_count": null,
   "metadata": {},
   "outputs": [],
   "source": [
    "for i in range(10):\n",
    "    print('yourname')"
   ]
  },
  {
   "cell_type": "markdown",
   "metadata": {},
   "source": [
    "Note a couple of features in the loop:\n",
    "\n",
    "1. You loop *over* a sequence, in this particular case the sequence of ten numbers defined in `lst` or created by `range(10)`.\n",
    "1. In every step, for every element of the sequence in this case, you repeat an action. Here we are printing the same text, `yourname`.\n",
    "1. Although not used in this simple loop, each of the elements you loop over can be accessed inside the loop. This can be irrelevant, as in the loop above, or extremely useful, depending on the context. For example, see a case where you use the value of the sequence in each step:"
   ]
  },
  {
   "cell_type": "code",
   "execution_count": null,
   "metadata": {},
   "outputs": [],
   "source": [
    "for step in range(12):\n",
    "    print(\"I am at step \", step)"
   ]
  },
  {
   "cell_type": "markdown",
   "metadata": {},
   "source": [
    "#### `if` statements\n",
    "\n",
    "We have just seen how `for` loops allow you to repeat an action over a sequence. In the case of `if` statements, these allow you to select or restrict such actions to only those cases that meet a condition(s) you specify in the statement.\n",
    "\n",
    "The general structure of `if` statements is:\n",
    "\n",
    "```\n",
    "if conditional 1:\n",
    "    statement 1\n",
    "    \n",
    "elif conditional 2:\n",
    "    statement 2 \n",
    "    \n",
    "else : \n",
    "    statement 3\n",
    "```\n",
    "\n",
    "\n",
    "For example, if you think of the loops written above, you might want to only print numbers that are even, skipping those that are odd:"
   ]
  },
  {
   "cell_type": "code",
   "execution_count": null,
   "metadata": {},
   "outputs": [],
   "source": [
    "for i in range(10):\n",
    "    if i%2 == 0:        # remember: a number is even if it is divisible by 2\n",
    "        print(i)"
   ]
  },
  {
   "cell_type": "markdown",
   "metadata": {},
   "source": [
    "A full `if` statement also allows for an action to be taken if the original condition is not satisfied. This is called an \"ifelse\" statement. For example, you can think of a loop that prints the type of each number in a sequence:"
   ]
  },
  {
   "cell_type": "code",
   "execution_count": null,
   "metadata": {},
   "outputs": [],
   "source": [
    "lst"
   ]
  },
  {
   "cell_type": "code",
   "execution_count": null,
   "metadata": {},
   "outputs": [],
   "source": [
    "for i in lst:\n",
    "    # Check if i is odd\n",
    "    if i%2 != 0:\n",
    "        print(i, 'is odd')\n",
    "    # If not odd, then do the following\n",
    "    else:\n",
    "        print(i, 'is even')"
   ]
  },
  {
   "cell_type": "markdown",
   "metadata": {},
   "source": [
    "### Functions"
   ]
  },
  {
   "cell_type": "markdown",
   "metadata": {},
   "source": [
    "The last part of this quick overview relates to functions, or more properly termed, methods. The motivation is that, so far, we have only seen how you can create Python code that, if you want to run again somewhere else, you need to copy and paste entirely. However, as we will see in more detail later in the course, one of the main reasons why you want to use Python for data analysis, instead of a point-and-click graphical interface like SPSS, for instance, is that you can easily reuse code and re-run analyses. Methods help us accomplish this by encapsulating snippets of code that perform a particular task and making them available to be called.\n",
    "\n",
    "We have already *used* methods here. When we call `range()`, we are using one of them. Now, we will see how to *create* a method of our own that performs the specific task we want it to do. For example, let us create a very simple method to reproduce the first loop we created above:"
   ]
  },
  {
   "cell_type": "code",
   "execution_count": null,
   "metadata": {},
   "outputs": [],
   "source": [
    "# define the method\n",
    "def run_simple_loop():\n",
    "    \n",
    "    for i in range(10):\n",
    "        print(i)\n",
    "    \n",
    "    return None"
   ]
  },
  {
   "cell_type": "markdown",
   "metadata": {},
   "source": [
    "Already with this simple method, there is a bunch of interesting things going on:\n",
    "\n",
    "* First, note how we define a method: we use `def` followed by the name of our function (we have chosen `run_simple_loop`, but anything is possible).\n",
    "* Second, we append `()` after the name, and finish the line with a colon (`:`). This is necessary and will allow us to specify requirements for the function (see below).\n",
    "* Third, realize that everything inside a function needs to be indented. This is a core property of Python and, although some people find it odd, it enhances readibility greatly.\n",
    "* Fourth, the piece of code to do the task we want, printing the sequence of numbers, is inside the function in the same way it was outside, only properly indented.\n",
    "* Fifth, we finish the method with a line starting by `return`. In this case, we follow it with `None`, but this will change as methods become more sophisticated. Essentially, this is the part of the method where you specify which elements you want it to return and save for later use.\n",
    "\n",
    "Once we have paid attention to these elements, we can see how the method can be *called* and hence the code inside it executed:"
   ]
  },
  {
   "cell_type": "code",
   "execution_count": null,
   "metadata": {},
   "outputs": [],
   "source": [
    "# call our defined method\n",
    "run_simple_loop()"
   ]
  },
  {
   "cell_type": "markdown",
   "metadata": {},
   "source": [
    "This is the simplest possile method you can write: you do not require any inputs, just executing the method and the code produces an output (the printout), which is not saved anywhere. The rest of this section relaxes these two aspects to allow us to build more complex, but also more useful, methods.\n",
    "\n",
    "First, you can specify \"arguments\" to be passed that modify the behaviour of the method. The main aspect to pay attention to in this context is that the arguments need to be variables, not particular values. Let us see a modified example of our method:"
   ]
  },
  {
   "cell_type": "code",
   "execution_count": null,
   "metadata": {},
   "outputs": [],
   "source": [
    "# define method with argument\n",
    "def run_simple_loopX(x):\n",
    "    for i in range(x):\n",
    "        print(i)\n",
    "    return None"
   ]
  },
  {
   "cell_type": "markdown",
   "metadata": {},
   "source": [
    "We have replaced the fixed length of the sequence (10) by a variable named `x` that allows us to specify *any value we want* when we call the method:"
   ]
  },
  {
   "cell_type": "code",
   "execution_count": null,
   "metadata": {},
   "outputs": [],
   "source": [
    "# call method with argument\n",
    "run_simple_loopX(6)"
   ]
  },
  {
   "cell_type": "markdown",
   "metadata": {},
   "source": [
    "Our function does not save (or more accurately: return) anything:"
   ]
  },
  {
   "cell_type": "code",
   "execution_count": null,
   "metadata": {},
   "outputs": [],
   "source": [
    "# let's try to save what our function outputs to a variable called b\n",
    "b = run_simple_loopX(3)"
   ]
  },
  {
   "cell_type": "code",
   "execution_count": null,
   "metadata": {},
   "outputs": [],
   "source": [
    "# let's print b\n",
    "print(b)"
   ]
  },
  {
   "cell_type": "markdown",
   "metadata": {},
   "source": [
    "We can modify this using the last line of a method. For example, let us assume we want to return a sequence as long as the series of numbers we print on the screen. The method should be:"
   ]
  },
  {
   "cell_type": "code",
   "execution_count": null,
   "metadata": {},
   "outputs": [],
   "source": [
    "# define method\n",
    "def run_simple_loopX(x):\n",
    "    for i in range(x):\n",
    "        print(i)\n",
    "    return range(x)"
   ]
  },
  {
   "cell_type": "code",
   "execution_count": null,
   "metadata": {},
   "outputs": [],
   "source": [
    "a = run_simple_loopX(3)"
   ]
  },
  {
   "cell_type": "code",
   "execution_count": null,
   "metadata": {},
   "outputs": [],
   "source": [
    "# return a\n",
    "a"
   ]
  },
  {
   "cell_type": "markdown",
   "metadata": {},
   "source": [
    "The advantage of methods, as opposed to straight code, is that they force us to think in a modular (object-oriented) way, helping us identify exactly what needs to be done, in what order, and what is required. Encapsulating these atomic bits of functionality in methods allows us to write things once and flexibly use them everywhere, saving us time (and headaches) in the long run."
   ]
  },
  {
   "cell_type": "markdown",
   "metadata": {},
   "source": [
    "A final note on functions. It is important that, whenever you create a function, you include some documentation about what it expects, what it does, and what it returns. Although there are many ways of doing this, the typical convention for these so-called __docstrings__ (i.e., documentation strings) is as follows:"
   ]
  },
  {
   "cell_type": "code",
   "execution_count": null,
   "metadata": {},
   "outputs": [],
   "source": [
    "def run_simple_loopXout(x):\n",
    "    \n",
    "    \"\"\"\n",
    "    Print out the values of a sequence of certain length\n",
    "    ...\n",
    "    \n",
    "    Arguments\n",
    "    ---------\n",
    "    x     : int\n",
    "            Length of the sequence to be printed out\n",
    "    \n",
    "    Returns\n",
    "    -------\n",
    "    range   : np.array\n",
    "            Sequence of values printed out\n",
    "    \"\"\"\n",
    "    \n",
    "    for i in range(x):\n",
    "        print(i)\n",
    "\n",
    "    return range(x)"
   ]
  },
  {
   "cell_type": "markdown",
   "metadata": {},
   "source": [
    "Documentation, as any string, are highlighted in red on a notebook. Let us have a look at the structure and components of a well-made documentation:\n",
    "\n",
    "* It is encapsulated between triple commas (`\"\"\"`).\n",
    "* Begins with a short description of what the method does. The shorter the better, the more concise, the even better.\n",
    "* There is a section called \"Arguments\" that lists the elements that the function expects. \n",
    "* Each argument is then listed, followed by its type. In this case it is an object `x` that, as we are told, needs to be an integer.\n",
    "* The arguments are followed by another section that specifies what the function returns, and of what type the output is.\n",
    "\n",
    "Documentation in this way is very useful to remember what a function does, but also to force yourself to write clearer code. A bonus is that if you include documentation in this way, it can be checked with the standard `help` or `?` systems reviewed above:"
   ]
  },
  {
   "cell_type": "code",
   "execution_count": null,
   "metadata": {},
   "outputs": [],
   "source": [
    "help(run_simple_loopXout)"
   ]
  },
  {
   "cell_type": "markdown",
   "metadata": {},
   "source": [
    "---"
   ]
  }
 ],
 "metadata": {
  "kernelspec": {
   "display_name": "Python 3 (ipykernel)",
   "language": "python",
   "name": "python3"
  },
  "language_info": {
   "codemirror_mode": {
    "name": "ipython",
    "version": 3
   },
   "file_extension": ".py",
   "mimetype": "text/x-python",
   "name": "python",
   "nbconvert_exporter": "python",
   "pygments_lexer": "ipython3",
   "version": "3.12.2"
  }
 },
 "nbformat": 4,
 "nbformat_minor": 4
}
