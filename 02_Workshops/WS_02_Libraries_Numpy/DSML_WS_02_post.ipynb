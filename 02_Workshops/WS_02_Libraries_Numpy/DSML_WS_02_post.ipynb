{
 "cells": [
  {
   "cell_type": "markdown",
   "metadata": {},
   "source": [
    "# `DSML_WS_02` - Introduction to Python Library Management & `NumPy`"
   ]
  },
  {
   "cell_type": "markdown",
   "metadata": {},
   "source": [
    "In this tutorial we will introduce the concept of python libraries and cover a first such library - NumPy.\n",
    "\n",
    "We will go through the following:\n",
    "- Task: Programming a simple calculator\n",
    "- Introduction to the concept of `Python Libraries`\n",
    "- Task: Getting started with `NumPy`\n",
    "- Introduction to `NumPy`"
   ]
  },
  {
   "cell_type": "markdown",
   "metadata": {},
   "source": [
    "---"
   ]
  },
  {
   "cell_type": "markdown",
   "metadata": {},
   "source": [
    "## 1. Task: Programming a simple calculator"
   ]
  },
  {
   "cell_type": "markdown",
   "metadata": {},
   "source": [
    "Last week, you made yourself familiar with Python, getting to know about data structures like values, lists and dictionaries, explored for loops and if statements, and learned how to define functions. To put your knowledge of basic Python to the test, write a properly documented python function that can perform the taks of a simple calculator with the following behaviour:\n",
    "\n",
    "1. The user shall pass the desired mathematical operation (plus, minus, divide, multiply) and two numbers\n",
    "\n",
    "2. The result shall be calculated and printed\n",
    "\n",
    "3. If the input for the mathematical operation is not covered by the list from above, print \"Please correct your input\"\n",
    "\n",
    "**You should use the following elements:** \n",
    "\n",
    "- If/elif/else statement\n",
    "- Functions\n",
    "- Mathematical expressions"
   ]
  },
  {
   "cell_type": "code",
   "execution_count": null,
   "metadata": {},
   "outputs": [],
   "source": [
    "def simple_calc(first_num, ops, second_num):\n",
    "    \n",
    "    \n",
    "    \"\"\"\n",
    "    Perform a mathematical operation between two numbers\n",
    "    ...\n",
    "    \n",
    "    Arguments\n",
    "    ---------\n",
    "    first_num     : int/float\n",
    "                    first number in calculation\n",
    "                    \n",
    "    ops           : str\n",
    "                    mathematical operation; ops=[\"plus\", \"minus\", \"multiply\", \"divide\"]\n",
    "    \n",
    "    second_num    : int/float\n",
    "                    second number in calculation\n",
    "    \n",
    "    Returns\n",
    "    -------\n",
    "    result : str\n",
    "            Operation and results of operation as string\n",
    "    \"\"\"\n",
    "    #### Your Code below\n",
    "    \n",
    "    # check numerical input\n",
    "    if type(first_num) != int and type(first_num) != float:\n",
    "        return print(\"Please provide numerical input for first_num\")\n",
    "        \n",
    "    if type(second_num) != int and type(second_num) != float:\n",
    "        return print(\"Please provide numerical input for second_num\")\n",
    "    \n",
    "\n",
    "    # check if selected operation is in [\"plus\",\"minus\",\"multiply\",\"divide\"]\n",
    "    if ops not in [\"plus\",\"minus\",\"multiply\",\"divide\"]:\n",
    "        return print(\"Please provide valid operation! Choose from [plus,minus,multiply,divide]\")\n",
    "    \n",
    "    \n",
    "    # perform calculations\n",
    "    if ops == \"plus\":\n",
    "        result = first_num + second_num\n",
    "    elif ops == \"minus\":\n",
    "        result = first_num - second_num\n",
    "    elif ops == \"multiply\":\n",
    "        result = first_num * second_num\n",
    "    elif ops == \"divide\":\n",
    "        result = first_num / second_num\n",
    "\n",
    "  \n",
    "    return print(first_num, ops, second_num, \"=\", result)"
   ]
  },
  {
   "cell_type": "code",
   "execution_count": null,
   "metadata": {},
   "outputs": [],
   "source": [
    "simple_calc(5,\"divide\",2)"
   ]
  },
  {
   "cell_type": "code",
   "execution_count": null,
   "metadata": {},
   "outputs": [],
   "source": [
    "simple_calc(\"five\",\"divide\",2)"
   ]
  },
  {
   "cell_type": "code",
   "execution_count": null,
   "metadata": {},
   "outputs": [],
   "source": [
    "simple_calc(5,\"div\",2)"
   ]
  },
  {
   "cell_type": "markdown",
   "metadata": {},
   "source": [
    "---"
   ]
  },
  {
   "cell_type": "markdown",
   "metadata": {},
   "source": [
    "## 2. Python Libraries"
   ]
  },
  {
   "attachments": {},
   "cell_type": "markdown",
   "metadata": {},
   "source": [
    "**Introduction to Libraries**\n",
    "\n",
    "A library (or module, or package) is a Python object with arbitrarily named attributes that you can bind and reference. Simply put, a module is a file consisting of Python code. A module can define functions, classes and variables. A module can also include runnable code.\n",
    "\n",
    "You can use any Python source file as a module by executing an import statement in some other Python source file. The import has the following syntax:\n",
    "\n",
    "```\n",
    "import <module name>\n",
    "```\n",
    "\n",
    "By convention it is common to name modules so they can be called by entering an abbreviated name. This is effectively importing the module in the same way that `import <module name>` will do, with the only difference of it being available as ` <module name abbreviation>`. In the case of `numpy`, for example, the abbreviation `np` is used.\n",
    "\n",
    "```\n",
    "import <module name> as <module name abbreviation>\n",
    "```"
   ]
  },
  {
   "cell_type": "code",
   "execution_count": null,
   "metadata": {},
   "outputs": [],
   "source": [
    "import numpy as np"
   ]
  },
  {
   "cell_type": "markdown",
   "metadata": {},
   "source": [
    "**Adding/Installing Libraries**\n",
    "\n",
    "We have discussed how to add Python packages (or libraries) to your installation last week. We used the `conda` package manager. Alternatively you can also use the `pip` package manager (if you check out our environment.yml file, you will see that we actually use pip for one package).\n",
    "\n",
    "If you are looking for a specific package but are unsure of the exact command line name, do a quick google search and/or check the [Anaconda Cloud](https://anaconda.org).\n",
    "\n",
    "You can get packages from different channels. We use the conda default or conda-forge channels (again, check out the environment.yml file). It is recommended to retrieve all packages from the same conda channel such as conda-forge to ensure smooth working of all dependencies. If you install packages via the command line, you can specify the desired channel as follows:\n",
    "\n",
    "```\n",
    "conda install -c conda-forge <package name>\n",
    "```"
   ]
  },
  {
   "cell_type": "markdown",
   "metadata": {},
   "source": [
    "**Relevant Libraries for this course**\n",
    "\n",
    "There is a large variety of open source libraries available in Python. Below is a list of some of the most relevant ones for data science, which will be covered in this course.\n",
    "\n",
    "* Selected data science libraries\n",
    "\n",
    "    * Data Analysis and Processing\n",
    "    >* Pandas (pd)\n",
    "    >* Numpy (np)\n",
    "    * Visualization        \n",
    "    >* matplotlib and pyplot (plt)\n",
    "    >* seaborn (sns)\n",
    "    * Models and methods\n",
    "    >* Scikit Learn (sklearn)"
   ]
  },
  {
   "cell_type": "markdown",
   "metadata": {},
   "source": [
    "---"
   ]
  },
  {
   "cell_type": "markdown",
   "metadata": {},
   "source": [
    "## 3. Task: Getting started with `NumPy`"
   ]
  },
  {
   "cell_type": "markdown",
   "metadata": {},
   "source": [
    "This week, we will be exploring our first Python package, namely NumPy. Get prepared for the workshop by completing the below steps:"
   ]
  },
  {
   "cell_type": "markdown",
   "metadata": {},
   "source": [
    "In order to use NumPy's capabilities, we first have to import it. Do this by running the following cell. We use the `as` keyword so we can use an abbreviation when calling NumPy methods."
   ]
  },
  {
   "cell_type": "code",
   "execution_count": null,
   "metadata": {},
   "outputs": [],
   "source": [
    "import numpy as np"
   ]
  },
  {
   "cell_type": "markdown",
   "metadata": {},
   "source": [
    "The core structure of NumPy is the N-dimensional array object. You can create arrays using `np.array([..,..,..])`. Do the following:\n",
    "1. Create a list of 5 integers and assign it to a variable called `lst`.\n",
    "2. Use `lst` to create a NumPy array, and assign this array to a variable called `my_first_array`.\n",
    "3. Verify that the type of `my_first_array` is np.array.\n",
    "4. Create a second array, consisting of the first 3 numbers from `my_first_array`, and assign it to a variable called `my_second_array` (tip: selecting a subset of elements from arrays works similarly to lists).\n",
    "5. Create a third array, which contains each number from `my_second_array` multiplied by 3, and assign it to a variable called `my_third_array` (tip: thinking about list operations from last week will help you here once again)."
   ]
  },
  {
   "cell_type": "code",
   "execution_count": null,
   "metadata": {},
   "outputs": [],
   "source": [
    "# your code here\n",
    "lst = [1,2,3,4,5]\n",
    "my_first_array = np.array(lst)\n",
    "print(my_first_array)"
   ]
  },
  {
   "cell_type": "code",
   "execution_count": null,
   "metadata": {},
   "outputs": [],
   "source": [
    "type(my_first_array)"
   ]
  },
  {
   "cell_type": "code",
   "execution_count": null,
   "metadata": {},
   "outputs": [],
   "source": [
    "my_second_array = my_first_array[:3]\n",
    "print(my_second_array)"
   ]
  },
  {
   "cell_type": "code",
   "execution_count": null,
   "metadata": {},
   "outputs": [],
   "source": [
    "my_third_array = my_second_array * 3\n",
    "print(my_third_array)"
   ]
  },
  {
   "cell_type": "markdown",
   "metadata": {},
   "source": [
    "Finally, let's combine `my_second_array` and `my_third_array`. We can use the functions np.hstack((`first_array`,`second_array`)) or np.vstack((`first_array`,`second_array`)) for this. Combine `my_second_array` and `my_third_array` using both functions. How does the output differ? Can I also use both functions to combine `my_first_array`and `my_second_array`?"
   ]
  },
  {
   "cell_type": "code",
   "execution_count": null,
   "metadata": {},
   "outputs": [],
   "source": [
    "np.hstack((my_second_array, my_third_array))"
   ]
  },
  {
   "cell_type": "code",
   "execution_count": null,
   "metadata": {},
   "outputs": [],
   "source": [
    "np.vstack((my_second_array, my_third_array))"
   ]
  },
  {
   "cell_type": "code",
   "execution_count": null,
   "metadata": {},
   "outputs": [],
   "source": [
    "# combining my_first_array and my_second_array using hstack works\n",
    "np.hstack((my_first_array, my_second_array))"
   ]
  },
  {
   "cell_type": "code",
   "execution_count": null,
   "metadata": {},
   "outputs": [],
   "source": [
    "# combining my_first_array and my_second_array using vstack does not work\n",
    "np.vstack((my_first_array, my_second_array))"
   ]
  },
  {
   "cell_type": "markdown",
   "metadata": {},
   "source": [
    "---"
   ]
  },
  {
   "cell_type": "markdown",
   "metadata": {},
   "source": [
    "## 4. Introduction to `NumPy`"
   ]
  },
  {
   "cell_type": "markdown",
   "metadata": {},
   "source": [
    "NumPy is the fundamental package for scientific computing with Python. It contains among other things:\n",
    "\n",
    "- A powerful N-dimensional array object\n",
    "- Sophisticated (broadcasting) functions\n",
    "- Tools for integrating C/C++ and Fortran code\n",
    "- Useful linear algebra, Fourier transform, and random number capabilities allowing for efficient matrix operations.\n",
    "\n",
    "Besides its obvious scientific uses, NumPy can also be used as an efficient multi-dimensional container of generic data. Arbitrary data-types can be defined. This allows NumPy to seamlessly and speedily integrate with a wide variety of databases.\n",
    "\n",
    "NumPy’s main object is the homogeneous multidimensional array. It is a table of elements (usually numbers), all of the same type, indexed by a tuple of positive integers. In NumPy dimensions are called axes. The number of axes is rank.\n",
    "\n",
    "In today's short overview tutorial we will cover the following:\n",
    "\n",
    "1. **Creating NumPy Arrays**\n",
    "1. **Manipulating NumPy Arrays**\n",
    "1. **NumPy Array Operations**"
   ]
  },
  {
   "cell_type": "markdown",
   "metadata": {},
   "source": [
    "Let's get started..."
   ]
  },
  {
   "cell_type": "code",
   "execution_count": null,
   "metadata": {},
   "outputs": [],
   "source": [
    "# import numpy as np if not already done above\n",
    "import numpy as np"
   ]
  },
  {
   "cell_type": "markdown",
   "metadata": {},
   "source": [
    "### Creating NumPy Arrays\n",
    "\n",
    "First, we can use `np.array` to create arrays from python lists. Unlike the Python lists, **NumPy is constrained to arrays that all contain the same type**. If types don't match, NumPy will upcast if possible. "
   ]
  },
  {
   "cell_type": "code",
   "execution_count": null,
   "metadata": {},
   "outputs": [],
   "source": [
    "# assign an array of integers to variable A\n",
    "A = np.array([1,2,3,4,5])\n",
    "A"
   ]
  },
  {
   "cell_type": "code",
   "execution_count": null,
   "metadata": {},
   "outputs": [],
   "source": [
    "# let's try to create an Array with integers and floats and assign it to variable B\n",
    "B = np.array([3, 5.1, 4.6, 6])"
   ]
  },
  {
   "cell_type": "code",
   "execution_count": null,
   "metadata": {},
   "outputs": [],
   "source": [
    "# return B; note that NumPy upcasts everything to floats!\n",
    "B"
   ]
  },
  {
   "cell_type": "markdown",
   "metadata": {},
   "source": [
    "If we want to explicitly set the data type of the resulting array, we can use the `dtype` keyword."
   ]
  },
  {
   "cell_type": "code",
   "execution_count": null,
   "metadata": {},
   "outputs": [],
   "source": [
    "# assign an Array with integers to C; however, specify \"dtype = float\"\n",
    "C = np.array([1,2,3,8],dtype = float)\n",
    "C"
   ]
  },
  {
   "cell_type": "markdown",
   "metadata": {},
   "source": [
    "Other examples of creating arrays using np functions:"
   ]
  },
  {
   "cell_type": "code",
   "execution_count": null,
   "metadata": {},
   "outputs": [],
   "source": [
    "# create a vector of length 5 filled with zeros\n",
    "D = np.zeros(shape=(1,5),dtype = float)\n",
    "print(D)"
   ]
  },
  {
   "cell_type": "code",
   "execution_count": null,
   "metadata": {},
   "outputs": [],
   "source": [
    "# create a 2x4 matrix of ones (float)\n",
    "E = np.ones((2,4), dtype= float)\n",
    "print(E)"
   ]
  },
  {
   "cell_type": "code",
   "execution_count": null,
   "metadata": {},
   "outputs": [],
   "source": [
    "# create a vector from 0-12 in steps of 2\n",
    "F = np.arange(0,12,2)\n",
    "print(F)"
   ]
  },
  {
   "cell_type": "code",
   "execution_count": null,
   "metadata": {},
   "outputs": [],
   "source": [
    "# create a vector from 0 to 1 with five equally (linearly) spaced elements \n",
    "G = np.linspace(0,1,5)\n",
    "print(G)"
   ]
  },
  {
   "cell_type": "code",
   "execution_count": null,
   "metadata": {},
   "outputs": [],
   "source": [
    "# create a 2x2 matrix with random floats in the half-open interval [0.0, 1.0)\n",
    "H = np.random.random((2,2))\n",
    "print(H)"
   ]
  },
  {
   "cell_type": "code",
   "execution_count": null,
   "metadata": {},
   "outputs": [],
   "source": [
    "# return random integers from 0 (inclusive) to 10 (exclusive) of size (4,3,2)\n",
    "I = np.random.randint(0,10,(4,3,2))\n",
    "print(I)"
   ]
  },
  {
   "cell_type": "code",
   "execution_count": null,
   "metadata": {},
   "outputs": [],
   "source": [
    "print(\"D =\", D,\n",
    "      \"\\n\\nE =\", E, \n",
    "      \"\\n\\nF =\", F, \n",
    "      \"\\n\\nG =\", G, \n",
    "      \"\\n\\nH =\", H, \n",
    "      \"\\n\\nI =\", I)"
   ]
  },
  {
   "cell_type": "markdown",
   "metadata": {},
   "source": [
    "### Manipulating NumPy Arrays"
   ]
  },
  {
   "attachments": {},
   "cell_type": "markdown",
   "metadata": {},
   "source": [
    "Data manipulation in Python is nearly synonymous with NumPy array manipulation (although a lot of it may happen in higher-level frameworks like pandas). We will cover a few categories of basic array manipulations here:\n",
    "- **Attributes of arrays**: Determinig the size, shape, memory consumption and data type of arrays.\n",
    "- **Indexing of arrays**: Getting and setting the value of individual array elements.\n",
    "- **Slicing of arrays**: Getting and setting smaller subarrays within a larger array.\n",
    "- **Reshaping of arrays**: Changing the shape of a given array.\n",
    "- **Joining and splitting of arrays**: Combining multiple arrays into one, and splitting one array into many."
   ]
  },
  {
   "attachments": {},
   "cell_type": "markdown",
   "metadata": {},
   "source": [
    "#### NumPy Array Attributes:\n",
    "You can retrieve an attribute by appending it to the respective array."
   ]
  },
  {
   "cell_type": "code",
   "execution_count": null,
   "metadata": {},
   "outputs": [],
   "source": [
    "# determine the shape of array D using .shape\n",
    "D.shape"
   ]
  },
  {
   "cell_type": "code",
   "execution_count": null,
   "metadata": {},
   "outputs": [],
   "source": [
    "# determine the memory consumption of array D using .nbytes\n",
    "D.nbytes"
   ]
  },
  {
   "attachments": {},
   "cell_type": "markdown",
   "metadata": {},
   "source": [
    "In the following, some example attributes of array H are presented."
   ]
  },
  {
   "cell_type": "code",
   "execution_count": null,
   "metadata": {},
   "outputs": [],
   "source": [
    "# remember our array H\n",
    "H"
   ]
  },
  {
   "cell_type": "code",
   "execution_count": null,
   "metadata": {},
   "outputs": [],
   "source": [
    "# returns dimension\n",
    "print(\"H ndim: \", H.ndim)\n",
    "\n",
    "# returns shape in form (#row,#col)\n",
    "print(\"H shape: \" , H.shape) ##### Most important!\n",
    "\n",
    "# returns size (i.e. no of elements)\n",
    "print(\"H size: \", H.size)\n",
    "\n",
    "# returns data type\n",
    "print(\"H dtype: \", H.dtype)\n",
    "\n",
    "# returns length of one array element in bytes\n",
    "print(\"itemsize: \", H.itemsize,\" bytes\")\n",
    "\n",
    "# returns total bytes consumed by the elements of the array\n",
    "print(\"nbytes:  \", H.nbytes, \"bytes\")"
   ]
  },
  {
   "attachments": {},
   "cell_type": "markdown",
   "metadata": {},
   "source": [
    "#### NumPy Array Indexing:\n",
    "In the following, some examples on indexing are presented. Note that, for a 1-dimensional array, this is very similar to indexing and slicing lists!"
   ]
  },
  {
   "cell_type": "markdown",
   "metadata": {},
   "source": [
    "Accessing single elements:"
   ]
  },
  {
   "cell_type": "code",
   "execution_count": null,
   "metadata": {},
   "outputs": [],
   "source": [
    "# remember our basic array A\n",
    "A"
   ]
  },
  {
   "cell_type": "code",
   "execution_count": null,
   "metadata": {},
   "outputs": [],
   "source": [
    "# index the array from the front\n",
    "A[0]"
   ]
  },
  {
   "cell_type": "code",
   "execution_count": null,
   "metadata": {},
   "outputs": [],
   "source": [
    "# fill in the correct indices\n",
    "print(\"The 4th element of A is {}\".format(A[3]))\n",
    "print(\"The last element of A is {}\".format(A[-1]))"
   ]
  },
  {
   "cell_type": "markdown",
   "metadata": {},
   "source": [
    "In a multidimensional array (i.e. a matrix), you access items using a comma-seperated tuple of indices."
   ]
  },
  {
   "cell_type": "code",
   "execution_count": null,
   "metadata": {},
   "outputs": [],
   "source": [
    "# remember H\n",
    "print(H)"
   ]
  },
  {
   "cell_type": "code",
   "execution_count": null,
   "metadata": {},
   "outputs": [],
   "source": [
    "# remember the shape of H\n",
    "H.shape"
   ]
  },
  {
   "cell_type": "code",
   "execution_count": null,
   "metadata": {},
   "outputs": [],
   "source": [
    "# access the element in the bottom left\n",
    "H[1,0]"
   ]
  },
  {
   "cell_type": "code",
   "execution_count": null,
   "metadata": {},
   "outputs": [],
   "source": [
    "# fill in the correct indices\n",
    "print (\"The first element of H is {}\".format(H[0,0]))  #array[row,column]\n",
    "print (\"The last element of H is {}\".format(H[1,1]))   #array[row,column]"
   ]
  },
  {
   "cell_type": "markdown",
   "metadata": {},
   "source": [
    "#### NumPy Array Slicing:\n",
    "\n",
    "**One-dimensional arrays**\n",
    "\n",
    "Just as we can use square brackets to access individual array elements, we can also use them to access subarrays with the slice notation, marked by the colon `:` character. The syntax is as follow:\n",
    "` X[start (incl.):stop (excl.):step]`"
   ]
  },
  {
   "cell_type": "code",
   "execution_count": null,
   "metadata": {},
   "outputs": [],
   "source": [
    "# remember array F\n",
    "print(F)"
   ]
  },
  {
   "cell_type": "code",
   "execution_count": null,
   "metadata": {},
   "outputs": [],
   "source": [
    "# slice F to retrieve all elements except the first and the last\n",
    "F[1:5]"
   ]
  },
  {
   "cell_type": "code",
   "execution_count": null,
   "metadata": {},
   "outputs": [],
   "source": [
    "# we can also reverse the order by setting steps to -1\n",
    "F[::-1]"
   ]
  },
  {
   "cell_type": "code",
   "execution_count": null,
   "metadata": {},
   "outputs": [],
   "source": [
    "# items 3 and 4\n",
    "print (\"middle subarray:\", F[2:4])\n",
    "\n",
    "# items 1 to 4 (excl.)\n",
    "print(\"First 3 elements:\", F[:3])\n",
    "\n",
    "# last 2 elements\n",
    "print(\"Last 2 elements:\", F[-2:])\n",
    "\n",
    "# first element and every second element from there\n",
    "print(\"Every other element:\", F[::2])"
   ]
  },
  {
   "cell_type": "markdown",
   "metadata": {},
   "source": [
    "**Multi-dimensional arrays**\n",
    "\n",
    "Multi-dimensional slices work in the same way, with multiple slices seperated by commas. The command is `X[slice row, slice column]`."
   ]
  },
  {
   "cell_type": "code",
   "execution_count": null,
   "metadata": {},
   "outputs": [],
   "source": [
    "# let's create a new multi-dimensional array\n",
    "J = np.random.randint(low=0,high=20, size=(3,4))\n",
    "\n",
    "J"
   ]
  },
  {
   "cell_type": "code",
   "execution_count": null,
   "metadata": {},
   "outputs": [],
   "source": [
    "# add the correct indices\n",
    "print (\"The first two rows and the first three column: \\n\", J[:2,:3])"
   ]
  },
  {
   "cell_type": "code",
   "execution_count": null,
   "metadata": {},
   "outputs": [],
   "source": [
    "# add the correct indices\n",
    "print(\"All rows and every other column:\\n\", J[:,::2])"
   ]
  },
  {
   "cell_type": "code",
   "execution_count": null,
   "metadata": {},
   "outputs": [],
   "source": [
    "print(\"Rows and columns reversed:\\n\",J[::-1,::-1])"
   ]
  },
  {
   "cell_type": "markdown",
   "metadata": {},
   "source": [
    "#### NumPy Array Reshaping:\n",
    "\n",
    "Another useful type of operation is reshaping of arrays. The most flexible way of doing this is with the reshape method. Note that for this to work, the size of the initial array must match the size of the reshaped array."
   ]
  },
  {
   "cell_type": "code",
   "execution_count": null,
   "metadata": {},
   "outputs": [],
   "source": [
    "# return evenly spaced values within a given interval\n",
    "K = np.arange(1,25)\n",
    "K"
   ]
  },
  {
   "cell_type": "code",
   "execution_count": null,
   "metadata": {},
   "outputs": [],
   "source": [
    "# determine number of dimensions of K\n",
    "K.ndim"
   ]
  },
  {
   "cell_type": "code",
   "execution_count": null,
   "metadata": {},
   "outputs": [],
   "source": [
    "# determine number of elements of K\n",
    "print(len(K))\n",
    "print(K.size)"
   ]
  },
  {
   "cell_type": "code",
   "execution_count": null,
   "metadata": {},
   "outputs": [],
   "source": [
    "# we can re-shape this array into any shape with 24 elements using the .reshape method\n",
    "K.reshape(4,6)"
   ]
  },
  {
   "cell_type": "markdown",
   "metadata": {},
   "source": [
    "#### NumPy Array Concatenation and Splitting\n",
    "\n",
    "All of the preceding routines worked on single arrays. It's also possible to combine multiple arrays into one, and to conversely split a single array into multiple arrays."
   ]
  },
  {
   "attachments": {},
   "cell_type": "markdown",
   "metadata": {},
   "source": [
    "**Concatenation of arrays**\n",
    "\n",
    "Concatenation, or joining of two arrays in NumPy, is primarily accomplished using the routine `np.concatenate`. Additionally, `np.vstack` and `np.hstack` may be used."
   ]
  },
  {
   "cell_type": "code",
   "execution_count": null,
   "metadata": {},
   "outputs": [],
   "source": [
    "# let's define two multi-dimensional arrays\n",
    "N = np.array([[3,5,7],[1,3,5]])\n",
    "O = np.array([[2,4,2],[0,9,8]])"
   ]
  },
  {
   "cell_type": "code",
   "execution_count": null,
   "metadata": {},
   "outputs": [],
   "source": [
    "# print both arrays\n",
    "print(\"N:\\n\",N)\n",
    "print(\"O:\\n\",O)"
   ]
  },
  {
   "cell_type": "code",
   "execution_count": null,
   "metadata": {},
   "outputs": [],
   "source": [
    "# There are different ways of concatenating these arrays. We can specify the axis using the keyword 'axis'\n",
    "print(\"Row-wise:\\n\",np.concatenate((N,O), axis = 0))\n",
    "print(\"Column-wise:\\n\",np.concatenate((N,O), axis = 1))"
   ]
  },
  {
   "attachments": {},
   "cell_type": "markdown",
   "metadata": {},
   "source": [
    "For working with arrays of mixed dimensions, it can be more practical to use the `np.vstack` (vertical stack, i.e. stacking on top of each other) and `np.hstack` (horizontal stack, i.e. stacking next to each other) functions:"
   ]
  },
  {
   "cell_type": "code",
   "execution_count": null,
   "metadata": {},
   "outputs": [],
   "source": [
    "# stack row-wise using vstack\n",
    "print(np.vstack((N,O)))"
   ]
  },
  {
   "cell_type": "code",
   "execution_count": null,
   "metadata": {},
   "outputs": [],
   "source": [
    "# stack column-wise using hstack\n",
    "print(np.hstack((N,O)))"
   ]
  },
  {
   "attachments": {},
   "cell_type": "markdown",
   "metadata": {},
   "source": [
    "**Splitting of arrays**\n",
    "\n",
    "The opposite of concatenation is splitting, which is implemented by the functions `np.split`, `np.hsplit`, and `np.vsplit`. For each of these, we can pass a list of indices as split points:"
   ]
  },
  {
   "cell_type": "code",
   "execution_count": null,
   "metadata": {},
   "outputs": [],
   "source": [
    "# remember our one-dimensional array K\n",
    "print(K)"
   ]
  },
  {
   "cell_type": "code",
   "execution_count": null,
   "metadata": {},
   "outputs": [],
   "source": [
    "# we can split K into 3 arrays using np.split\n",
    "K1, K2, K3 = np.split(K,3)\n",
    "print(K1, K2, K3)"
   ]
  },
  {
   "attachments": {},
   "cell_type": "markdown",
   "metadata": {},
   "source": [
    "Note that this only works if the number of elements of the original array can be split equally among the sub-arrays."
   ]
  },
  {
   "cell_type": "code",
   "execution_count": null,
   "metadata": {},
   "outputs": [],
   "source": [
    "# lets create a new multi-dimensional array\n",
    "P = np.arange(16).reshape((4, 4))\n",
    "print(P)"
   ]
  },
  {
   "cell_type": "code",
   "execution_count": null,
   "metadata": {},
   "outputs": [],
   "source": [
    "# using vsplit, we can split an array into multiple sub-arrays vertically (row-wise)\n",
    "row1, row2, row3, row4 = np.vsplit(P, 4)\n",
    "\n",
    "print(\"Row 1:\",row1)\n",
    "print(\"Row 2:\",row2)\n",
    "print(\"Row 3:\",row3)\n",
    "print(\"Row 4:\",row4)"
   ]
  },
  {
   "cell_type": "code",
   "execution_count": null,
   "metadata": {},
   "outputs": [],
   "source": [
    "# using hsplit, we can split an array into multiple sub-arrays horizontally (column-wise)\n",
    "left, middle1, middle2, right = np.hsplit(P, 4)\n",
    "print(\"Left: \\n\",left)\n",
    "print(\"Middle1: \\n\",middle1)\n",
    "print(\"Middle2: \\n\",middle2)\n",
    "print(\"Right: \\n\",right)"
   ]
  },
  {
   "attachments": {},
   "cell_type": "markdown",
   "metadata": {},
   "source": [
    "### NumPy Array Operations\n",
    "\n",
    "Numpy allows for **element-wise** as well as linear algebra **matrix-type** operations, which are a key component of scientific computing tasks. Matrix operations make computing fast and easy. It is the core functionality of `numpy`."
   ]
  },
  {
   "cell_type": "code",
   "execution_count": null,
   "metadata": {},
   "outputs": [],
   "source": [
    "# let's create two multi-dimensional arrays\n",
    "a = np.arange(6).reshape((2, 3))\n",
    "b = np.arange(6,12).reshape((2, 3))"
   ]
  },
  {
   "cell_type": "code",
   "execution_count": null,
   "metadata": {},
   "outputs": [],
   "source": [
    "# print a and b\n",
    "print(\"a:\\n\", a)\n",
    "print(\"b:\\n\", b)"
   ]
  },
  {
   "cell_type": "markdown",
   "metadata": {},
   "source": [
    "**Element-wise operations**"
   ]
  },
  {
   "cell_type": "code",
   "execution_count": null,
   "metadata": {},
   "outputs": [],
   "source": [
    "# we can do an element-wise addition using the + operator\n",
    "c = a + b\n",
    "print(c)"
   ]
  },
  {
   "cell_type": "code",
   "execution_count": null,
   "metadata": {},
   "outputs": [],
   "source": [
    "# we can do an element-wise subtraction using the - operator\n",
    "d = a - b\n",
    "print(d)"
   ]
  },
  {
   "cell_type": "code",
   "execution_count": null,
   "metadata": {},
   "outputs": [],
   "source": [
    "# we can do an element-wise multiplication using the * operator\n",
    "e = a * b\n",
    "print(e)"
   ]
  },
  {
   "cell_type": "code",
   "execution_count": null,
   "metadata": {},
   "outputs": [],
   "source": [
    "# we can do an element-wise division using the / operator\n",
    "f = a / b\n",
    "print(f)"
   ]
  },
  {
   "cell_type": "markdown",
   "metadata": {},
   "source": [
    "**Matrix operations**"
   ]
  },
  {
   "cell_type": "code",
   "execution_count": null,
   "metadata": {},
   "outputs": [],
   "source": [
    "# remember our original arrays a and b\n",
    "print(\"a:\\n\", a)\n",
    "print(\"b:\\n\", b)"
   ]
  },
  {
   "attachments": {},
   "cell_type": "markdown",
   "metadata": {},
   "source": [
    "We can perform a matrix multiplication using the '@' operator."
   ]
  },
  {
   "cell_type": "code",
   "execution_count": null,
   "metadata": {},
   "outputs": [],
   "source": [
    "a@b"
   ]
  },
  {
   "attachments": {},
   "cell_type": "markdown",
   "metadata": {},
   "source": [
    "We get an error message when attempting to perform a matrix multiplication on a and b. Why? Look at the dimensions of a and b."
   ]
  },
  {
   "cell_type": "code",
   "execution_count": null,
   "metadata": {},
   "outputs": [],
   "source": [
    "print(a.shape)\n",
    "print(b.shape)"
   ]
  },
  {
   "attachments": {},
   "cell_type": "markdown",
   "metadata": {},
   "source": [
    "Performing a matrix multiplication on two 2x3 matrices is not possible. However, we can transpose b (making it a 3x2 matrix). Multiplying a 2x3 with a 3x2 matrix should work."
   ]
  },
  {
   "cell_type": "code",
   "execution_count": null,
   "metadata": {},
   "outputs": [],
   "source": [
    "# transpose b using .T\n",
    "b_t = b.T\n",
    "\n",
    "print(b_t)"
   ]
  },
  {
   "cell_type": "code",
   "execution_count": null,
   "metadata": {},
   "outputs": [],
   "source": [
    "# perform matrix multiplication\n",
    "a@b_t"
   ]
  },
  {
   "cell_type": "markdown",
   "metadata": {},
   "source": [
    "---"
   ]
  }
 ],
 "metadata": {
  "kernelspec": {
   "display_name": "Python 3 (ipykernel)",
   "language": "python",
   "name": "python3"
  },
  "language_info": {
   "codemirror_mode": {
    "name": "ipython",
    "version": 3
   },
   "file_extension": ".py",
   "mimetype": "text/x-python",
   "name": "python",
   "nbconvert_exporter": "python",
   "pygments_lexer": "ipython3",
   "version": "3.12.2"
  }
 },
 "nbformat": 4,
 "nbformat_minor": 4
}
