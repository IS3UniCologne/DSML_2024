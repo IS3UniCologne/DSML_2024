{
 "cells": [
  {
   "cell_type": "markdown",
   "metadata": {},
   "source": [
    "# `DSML_WS_07` - Regression 1"
   ]
  },
  {
   "cell_type": "markdown",
   "metadata": {},
   "source": [
    "Please work on the following tasks **before** the seventh workshop session."
   ]
  },
  {
   "cell_type": "markdown",
   "metadata": {},
   "source": [
    "## 1. Predicting electricity demand"
   ]
  },
  {
   "cell_type": "markdown",
   "metadata": {},
   "source": [
    "Last week, we used electricity load data from Pittsburgh to predict peak electricity demand based on temperature. Using the same dataset, put what you have learned together to predict average electricity demand (`AVG`) based on average temperature (`Avg_temp`) **for the summer months (June, July, August)**.\n",
    "\n",
    "More specifically, do the following:\n",
    "- Load and prepare the `df_summer` dataframe for analysis.\n",
    "- Fit a linear regression by using the `scikit-learn` library for average temperature and average demand data.\n",
    "- Plot the data and fitted line. Annotate your graph appropriately.\n",
    "- Present relevant test metrics to quantify the __training__ loss."
   ]
  },
  {
   "cell_type": "code",
   "execution_count": null,
   "metadata": {},
   "outputs": [],
   "source": [
    "# your code here\n"
   ]
  },
  {
   "cell_type": "markdown",
   "metadata": {},
   "source": [
    "## 2. Introduction to advanced regression"
   ]
  },
  {
   "cell_type": "markdown",
   "metadata": {},
   "source": [
    "This week, we will continue our regression journey and consider some more complex modeling techniques.\n",
    "\n",
    "Let's once again use the familiar tips dataset from Seaborn. Execute the following cell to load the dataset."
   ]
  },
  {
   "cell_type": "code",
   "execution_count": null,
   "metadata": {},
   "outputs": [],
   "source": [
    "import seaborn as sns\n",
    "import matplotlib.pyplot as plt\n",
    "import pandas as pd\n",
    "from sklearn.linear_model import LinearRegression\n",
    "\n",
    "tips = sns.load_dataset(\"tips\")\n",
    "tips.head()"
   ]
  },
  {
   "cell_type": "markdown",
   "metadata": {},
   "source": [
    "During the introductory task to linear regression, we manually constructed a regression line to predict the tip based on the total bill using the following simple linear model:\n",
    "\\begin{equation}\n",
    "\\mathrm{tip} \\approx \\theta_1 \\cdot \\mathrm{total\\_bill} + \\theta_2\n",
    "\\end{equation}\n",
    "where $\\theta_1$ is the slope of the line and $\\theta_2$ is the intercept term."
   ]
  },
  {
   "cell_type": "markdown",
   "metadata": {},
   "source": [
    "Implement the linear regression using scikit learn to find the optimal values for the parameters and plot the regression line on top of a scatter plot of the observed values."
   ]
  },
  {
   "cell_type": "code",
   "execution_count": null,
   "metadata": {},
   "outputs": [],
   "source": [
    "# your code here\n"
   ]
  },
  {
   "cell_type": "markdown",
   "metadata": {},
   "source": [
    "One obvious way to improve our predictions would be to add another feature. For example, are tips different when people eat for lunch compared to dinner? Add the `time` feature to your regression by doing the following:\n",
    "- Recode the `time` feature so that \"Lunch\" is 0 and \"Dinner\" is 1.\n",
    "- Define your feature matrix `X` to include both `total_bill` and `time_recoded`.\n",
    "- Re-run your linear regression.\n",
    "- Plot a scatter plot with the observed lunch tips and dinner tips in different colors, as well as the respective regression lines."
   ]
  },
  {
   "cell_type": "code",
   "execution_count": null,
   "metadata": {},
   "outputs": [],
   "source": [
    "# your code here\n"
   ]
  },
  {
   "cell_type": "markdown",
   "metadata": {},
   "source": [
    "What do you think? Is it useful to add this feature?"
   ]
  }
 ],
 "metadata": {
  "kernelspec": {
   "display_name": "DSML_env",
   "language": "python",
   "name": "python3"
  },
  "language_info": {
   "codemirror_mode": {
    "name": "ipython",
    "version": 3
   },
   "file_extension": ".py",
   "mimetype": "text/x-python",
   "name": "python",
   "nbconvert_exporter": "python",
   "pygments_lexer": "ipython3",
   "version": "3.12.2"
  }
 },
 "nbformat": 4,
 "nbformat_minor": 2
}
