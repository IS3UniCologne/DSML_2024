{
 "cells": [
  {
   "cell_type": "markdown",
   "metadata": {},
   "source": [
    "# `DSML_WS_13` - Clustering Task"
   ]
  },
  {
   "cell_type": "markdown",
   "metadata": {},
   "source": [
    "Today is the final workshop of the DSML course. Since we do not have any new concepts to implement, the only bit that is left is discussing the final preparation task."
   ]
  },
  {
   "cell_type": "markdown",
   "metadata": {},
   "source": [
    "## 1. Clustering breast cancer samples"
   ]
  },
  {
   "cell_type": "markdown",
   "metadata": {},
   "source": [
    "In the last workshop, we have illustrated k-means clustering using the iris flower dataset. Put what you have learned into practice by applying it to our known cancer dataset. Would you have chosen the true number of 2 clusters without knowing that there are only two cancer types? Do the following:\n",
    "- load and prepare data (including feature scaling)\n",
    "- run a principal component analysis and generate as many principal components so that at least 95% of the variance in the original data is preserved\n",
    "- run k-means for different values for k using your the principal components as features\n",
    "- select the most suitable k using the elbow method\n",
    "- re-train your model using your selected number for k\n",
    "- generate two scatterplots of the first and second principal components: one showing the true label and one showing your generated clusters"
   ]
  },
  {
   "cell_type": "code",
   "execution_count": null,
   "metadata": {},
   "outputs": [],
   "source": [
    "import pandas as pd\n",
    "import numpy as np\n",
    "import matplotlib.pyplot as plt\n",
    "import seaborn as sns\n",
    "from sklearn.preprocessing import StandardScaler\n",
    "from sklearn.decomposition import PCA\n",
    "from sklearn.cluster import KMeans"
   ]
  },
  {
   "cell_type": "code",
   "execution_count": null,
   "metadata": {},
   "outputs": [],
   "source": [
    "# load data\n",
    "cancer = pd.read_csv('breast_cancer.csv', index_col=\"id\")\n",
    "cancer.dropna(axis=1, inplace=True)\n",
    "cancer_wo_target = cancer.drop(\"diagnosis\", axis=1)\n",
    "\n",
    "cancer_wo_target.head()"
   ]
  },
  {
   "cell_type": "code",
   "execution_count": null,
   "metadata": {},
   "outputs": [],
   "source": [
    "# scale features\n",
    "scaler = StandardScaler()\n",
    "cancer_scaled = pd.DataFrame(scaler.fit_transform(cancer_wo_target))\n",
    "\n",
    "# run PCA to reduce dimensionality (hint: 10 PCs should be fine)\n",
    "pca = PCA(n_components=10)\n",
    "cancer_scaled_pca = pca.fit_transform(cancer_scaled)\n",
    "\n",
    "# 10 seems good\n",
    "sum(pca.explained_variance_ratio_)"
   ]
  },
  {
   "cell_type": "code",
   "execution_count": null,
   "metadata": {},
   "outputs": [],
   "source": [
    "# determine number of clusters via elbow method\n",
    "pca_clusters = []\n",
    "pca_losses = []\n",
    "\n",
    "for i in range(20):\n",
    "    model = KMeans(n_clusters=i+1, n_init=10)\n",
    "    model.fit(cancer_scaled_pca)\n",
    "    pca_clusters.append(i+1)\n",
    "    pca_losses.append(model.inertia_)\n",
    "    \n",
    "plt.plot(pca_clusters, pca_losses)\n",
    "plt.xticks(range(21))\n",
    "plt.show()\n",
    "\n",
    "plt.plot(pca_clusters, pca_losses)\n",
    "plt.xlim([0,10])\n",
    "plt.show()"
   ]
  },
  {
   "cell_type": "code",
   "execution_count": null,
   "metadata": {},
   "outputs": [],
   "source": [
    "# train model for chosen n clusters (i.e., 2)\n",
    "n=2\n",
    "cancer_two = KMeans(n_clusters=n, n_init=10)\n",
    "cancer_two.fit(cancer_scaled_pca)"
   ]
  },
  {
   "cell_type": "code",
   "execution_count": null,
   "metadata": {},
   "outputs": [],
   "source": [
    "# produce joint df\n",
    "cancer_scaled_pca_df = pd.DataFrame(cancer_scaled_pca, index=cancer.index)\n",
    "cancer_scaled_pca_df.columns = [\"PC\"+str(column+1) for column in cancer_scaled_pca_df.columns]\n",
    "cancer_scaled_pca_df[\"Cluster\"] = cancer_two.predict(cancer_scaled_pca)\n",
    "cancer_scaled_pca_df[\"Diagnosis\"] = cancer[\"diagnosis\"]\n",
    "cancer_scaled_pca_df.head(2)"
   ]
  },
  {
   "cell_type": "code",
   "execution_count": null,
   "metadata": {},
   "outputs": [],
   "source": [
    "# visualize\n",
    "sns.lmplot(x=\"PC1\", y=\"PC2\", data=cancer_scaled_pca_df, fit_reg=False, hue=\"Cluster\")\n",
    "sns.lmplot(x=\"PC1\", y=\"PC2\", data=cancer_scaled_pca_df, fit_reg=False, hue=\"Diagnosis\",hue_order=[\"B\",\"M\"])"
   ]
  }
 ],
 "metadata": {
  "kernelspec": {
   "display_name": "DSML_env",
   "language": "python",
   "name": "python3"
  },
  "language_info": {
   "codemirror_mode": {
    "name": "ipython",
    "version": 3
   },
   "file_extension": ".py",
   "mimetype": "text/x-python",
   "name": "python",
   "nbconvert_exporter": "python",
   "pygments_lexer": "ipython3",
   "version": "3.12.2"
  }
 },
 "nbformat": 4,
 "nbformat_minor": 2
}
