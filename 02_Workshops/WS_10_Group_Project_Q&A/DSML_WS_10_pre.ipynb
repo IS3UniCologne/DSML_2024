{
 "cells": [
  {
   "cell_type": "markdown",
   "metadata": {},
   "source": [
    "# `DSML_WS_10` - Group Project Q&A"
   ]
  },
  {
   "cell_type": "markdown",
   "metadata": {},
   "source": [
    "Please work on the following tasks **before** the tenth workshop session."
   ]
  },
  {
   "cell_type": "markdown",
   "metadata": {},
   "source": [
    "## 1. Predicting electricity demand - continued"
   ]
  },
  {
   "cell_type": "markdown",
   "metadata": {},
   "source": [
    "In the preparation task for workshop 8, you predicted **average electrical load** from **average temperature** using polynomial features with `scikit learn`. Let us continue from there by doing the following: \n",
    "\n",
    "- Load data and filter dataframe to exclude any observations with `Avg_temp` outside the range of -20 to +30 degrees.\n",
    "- Define X and y vectors, and perform train/test split.\n",
    "- Create polynomial features up to degree 50 and scale using `StandardScaler`.\n",
    "- Initialize and fit model using `LinearRegression`.\n",
    "- Initialize and fit second model with appropriate alpha using `Ridge`.\n",
    "- Initialize and fit third model with appropriate alpha using `Lasso`.\n",
    "- Initialize and fit fourth model with appropriate value for n_neighbors using `KNeighborsRegressor`.\n",
    "- Compare model performances using `mean_absolute_error` and `r2_score`.\n",
    "- **Extra task**: for each of the four models, create a scatter plot of the test data and plot the regression line on top of it."
   ]
  },
  {
   "cell_type": "code",
   "execution_count": null,
   "metadata": {},
   "outputs": [],
   "source": [
    "# your code here\n"
   ]
  },
  {
   "cell_type": "markdown",
   "metadata": {},
   "source": [
    "## 2. Classifying breast cancer cells"
   ]
  },
  {
   "cell_type": "markdown",
   "metadata": {},
   "source": [
    "In workshop 9, we looked at the workings of relevant classification algorithms. One issue with we did not consideer was that we have trained our algorithms on the full set of available data. While this is fine for understanding how classification works in general, it is not suitable for developing predictive models (as you know by now).\n",
    "\n",
    "As a result, the classification metrics from last week's workshop are relatively meaningless as we need to evaluate on previously unseen data. \n",
    "\n",
    "**Design a proper model development routine to train a high-performing classification algorithm for the breast cancer dataset. Proceed as follows:**\n",
    "\n",
    "- Define your feature (let's continue to focus on `area_mean` and `concave_points_mean`) and target sets.\n",
    "- Partition the data into training, validation and test set, and scale the input features.\n",
    "- Train a support vector machine on the training set.\n",
    "- Tweak hyperparameters (e.g., kernel) by validating on the validation set.\n",
    "- Report test metrics from the unseen test set (only look at the test set once you are finished validating your model. Do not go back and forth as this would create leakage!)."
   ]
  },
  {
   "cell_type": "code",
   "execution_count": null,
   "metadata": {},
   "outputs": [],
   "source": [
    "# your code here\n"
   ]
  }
 ],
 "metadata": {
  "kernelspec": {
   "display_name": "DSML_env",
   "language": "python",
   "name": "python3"
  },
  "language_info": {
   "codemirror_mode": {
    "name": "ipython",
    "version": 3
   },
   "file_extension": ".py",
   "mimetype": "text/x-python",
   "name": "python",
   "nbconvert_exporter": "python",
   "pygments_lexer": "ipython3",
   "version": "3.1.-1"
  }
 },
 "nbformat": 4,
 "nbformat_minor": 2
}
